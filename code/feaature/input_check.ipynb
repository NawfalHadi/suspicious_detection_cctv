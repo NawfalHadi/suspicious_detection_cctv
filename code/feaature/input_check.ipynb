{
 "cells": [
  {
   "cell_type": "code",
   "execution_count": 1,
   "id": "34ace68e",
   "metadata": {},
   "outputs": [],
   "source": [
    "motion_row = [\n",
    "    0.51, 0.32, -0.12, 0.98,   # nose\n",
    "    0.48, 0.29, -0.11, 0.97,   # left eye\n",
    "    0.54, 0.28, -0.11, 0.97,   # right eye\n",
    "    0.72, 0.63, -0.24, 0.95,   # right wrist\n",
    "    0.31, 0.65, -0.23, 0.96    # left wrist\n",
    "]"
   ]
  },
  {
   "cell_type": "code",
   "execution_count": 2,
   "id": "0fc13b2d",
   "metadata": {},
   "outputs": [],
   "source": [
    "import pandas as pd"
   ]
  },
  {
   "cell_type": "code",
   "execution_count": 4,
   "id": "0e3c61da",
   "metadata": {},
   "outputs": [],
   "source": [
    "motion_detected = pd.DataFrame([motion_row])"
   ]
  },
  {
   "cell_type": "code",
   "execution_count": 5,
   "id": "a10fe835",
   "metadata": {},
   "outputs": [
    {
     "name": "stdout",
     "output_type": "stream",
     "text": [
      "     0     1     2     3     4     5     6     7     8     9     10    11  \\\n",
      "0  0.51  0.32 -0.12  0.98  0.48  0.29 -0.11  0.97  0.54  0.28 -0.11  0.97   \n",
      "\n",
      "     12    13    14    15    16    17    18    19  \n",
      "0  0.72  0.63 -0.24  0.95  0.31  0.65 -0.23  0.96  \n"
     ]
    }
   ],
   "source": [
    "print(motion_detected)"
   ]
  },
  {
   "cell_type": "code",
   "execution_count": 6,
   "id": "fd9bece8",
   "metadata": {},
   "outputs": [],
   "source": [
    "motion_detected[\"direction\"] = 0"
   ]
  },
  {
   "cell_type": "code",
   "execution_count": 7,
   "id": "8716fbc1",
   "metadata": {},
   "outputs": [
    {
     "name": "stdout",
     "output_type": "stream",
     "text": [
      "      0     1     2     3     4     5     6     7     8     9  ...    11  \\\n",
      "0  0.51  0.32 -0.12  0.98  0.48  0.29 -0.11  0.97  0.54  0.28  ...  0.97   \n",
      "\n",
      "     12    13    14    15    16    17    18    19  direction  \n",
      "0  0.72  0.63 -0.24  0.95  0.31  0.65 -0.23  0.96          0  \n",
      "\n",
      "[1 rows x 21 columns]\n"
     ]
    }
   ],
   "source": [
    "print(motion_detected)\n"
   ]
  },
  {
   "cell_type": "code",
   "execution_count": null,
   "id": "f013c343",
   "metadata": {},
   "outputs": [],
   "source": []
  }
 ],
 "metadata": {
  "kernelspec": {
   "display_name": "motion_venv",
   "language": "python",
   "name": "python3"
  },
  "language_info": {
   "codemirror_mode": {
    "name": "ipython",
    "version": 3
   },
   "file_extension": ".py",
   "mimetype": "text/x-python",
   "name": "python",
   "nbconvert_exporter": "python",
   "pygments_lexer": "ipython3",
   "version": "3.11.12"
  }
 },
 "nbformat": 4,
 "nbformat_minor": 5
}
