{
 "cells": [
  {
   "cell_type": "markdown",
   "id": "84c4b2ca",
   "metadata": {},
   "source": [
    "# Train the model"
   ]
  },
  {
   "cell_type": "code",
   "execution_count": 15,
   "id": "e8feb8a5",
   "metadata": {},
   "outputs": [],
   "source": [
    "from sklearn.model_selection import train_test_split\n",
    "import pandas as pd\n",
    "import pickle, os\n",
    "\n",
    "from sklearn.pipeline import make_pipeline\n",
    "from sklearn.preprocessing import StandardScaler \n",
    "from sklearn.metrics import confusion_matrix, ConfusionMatrixDisplay\n",
    "from sklearn.svm import *"
   ]
  },
  {
   "cell_type": "code",
   "execution_count": 7,
   "id": "5d7fb6ed",
   "metadata": {},
   "outputs": [],
   "source": [
    "df = pd.read_csv('../dataset/csv/finale_coords.csv')"
   ]
  },
  {
   "cell_type": "code",
   "execution_count": 8,
   "id": "0a2202a1",
   "metadata": {},
   "outputs": [
    {
     "data": {
      "text/html": [
       "<div>\n",
       "<style scoped>\n",
       "    .dataframe tbody tr th:only-of-type {\n",
       "        vertical-align: middle;\n",
       "    }\n",
       "\n",
       "    .dataframe tbody tr th {\n",
       "        vertical-align: top;\n",
       "    }\n",
       "\n",
       "    .dataframe thead th {\n",
       "        text-align: right;\n",
       "    }\n",
       "</style>\n",
       "<table border=\"1\" class=\"dataframe\">\n",
       "  <thead>\n",
       "    <tr style=\"text-align: right;\">\n",
       "      <th></th>\n",
       "      <th>class</th>\n",
       "      <th>x1</th>\n",
       "      <th>y1</th>\n",
       "      <th>z1</th>\n",
       "      <th>v1</th>\n",
       "      <th>x2</th>\n",
       "      <th>y2</th>\n",
       "      <th>z2</th>\n",
       "      <th>v2</th>\n",
       "      <th>x3</th>\n",
       "      <th>...</th>\n",
       "      <th>z43</th>\n",
       "      <th>v43</th>\n",
       "      <th>x44</th>\n",
       "      <th>y44</th>\n",
       "      <th>z44</th>\n",
       "      <th>v44</th>\n",
       "      <th>x45</th>\n",
       "      <th>y45</th>\n",
       "      <th>z45</th>\n",
       "      <th>v45</th>\n",
       "    </tr>\n",
       "  </thead>\n",
       "  <tbody>\n",
       "    <tr>\n",
       "      <th>0</th>\n",
       "      <td>Celinguk</td>\n",
       "      <td>0.798976</td>\n",
       "      <td>0.749394</td>\n",
       "      <td>-2.025858</td>\n",
       "      <td>0.992949</td>\n",
       "      <td>0.816979</td>\n",
       "      <td>0.671713</td>\n",
       "      <td>-1.966166</td>\n",
       "      <td>0.988409</td>\n",
       "      <td>0.734435</td>\n",
       "      <td>...</td>\n",
       "      <td>-1.784710</td>\n",
       "      <td>0.996934</td>\n",
       "      <td>0.444733</td>\n",
       "      <td>0.640802</td>\n",
       "      <td>-1.864306</td>\n",
       "      <td>0.995479</td>\n",
       "      <td>0.343410</td>\n",
       "      <td>0.628823</td>\n",
       "      <td>-1.754694</td>\n",
       "      <td>0.996650</td>\n",
       "    </tr>\n",
       "    <tr>\n",
       "      <th>1</th>\n",
       "      <td>Celinguk</td>\n",
       "      <td>0.630763</td>\n",
       "      <td>0.715939</td>\n",
       "      <td>-1.670721</td>\n",
       "      <td>0.998392</td>\n",
       "      <td>0.699276</td>\n",
       "      <td>0.641763</td>\n",
       "      <td>-1.630399</td>\n",
       "      <td>0.998039</td>\n",
       "      <td>0.563152</td>\n",
       "      <td>...</td>\n",
       "      <td>-1.723995</td>\n",
       "      <td>0.997969</td>\n",
       "      <td>0.469674</td>\n",
       "      <td>0.656570</td>\n",
       "      <td>-1.730082</td>\n",
       "      <td>0.997713</td>\n",
       "      <td>0.375618</td>\n",
       "      <td>0.648416</td>\n",
       "      <td>-1.680366</td>\n",
       "      <td>0.997022</td>\n",
       "    </tr>\n",
       "    <tr>\n",
       "      <th>2</th>\n",
       "      <td>Celinguk</td>\n",
       "      <td>0.645962</td>\n",
       "      <td>0.681424</td>\n",
       "      <td>-1.684919</td>\n",
       "      <td>0.999164</td>\n",
       "      <td>0.680811</td>\n",
       "      <td>0.612878</td>\n",
       "      <td>-1.617121</td>\n",
       "      <td>0.998941</td>\n",
       "      <td>0.569681</td>\n",
       "      <td>...</td>\n",
       "      <td>-1.845601</td>\n",
       "      <td>0.996398</td>\n",
       "      <td>0.808877</td>\n",
       "      <td>0.621602</td>\n",
       "      <td>-1.753377</td>\n",
       "      <td>0.994095</td>\n",
       "      <td>0.715321</td>\n",
       "      <td>0.616099</td>\n",
       "      <td>-1.838073</td>\n",
       "      <td>0.995596</td>\n",
       "    </tr>\n",
       "  </tbody>\n",
       "</table>\n",
       "<p>3 rows × 181 columns</p>\n",
       "</div>"
      ],
      "text/plain": [
       "      class        x1        y1        z1        v1        x2        y2  \\\n",
       "0  Celinguk  0.798976  0.749394 -2.025858  0.992949  0.816979  0.671713   \n",
       "1  Celinguk  0.630763  0.715939 -1.670721  0.998392  0.699276  0.641763   \n",
       "2  Celinguk  0.645962  0.681424 -1.684919  0.999164  0.680811  0.612878   \n",
       "\n",
       "         z2        v2        x3  ...       z43       v43       x44       y44  \\\n",
       "0 -1.966166  0.988409  0.734435  ... -1.784710  0.996934  0.444733  0.640802   \n",
       "1 -1.630399  0.998039  0.563152  ... -1.723995  0.997969  0.469674  0.656570   \n",
       "2 -1.617121  0.998941  0.569681  ... -1.845601  0.996398  0.808877  0.621602   \n",
       "\n",
       "        z44       v44       x45       y45       z45       v45  \n",
       "0 -1.864306  0.995479  0.343410  0.628823 -1.754694  0.996650  \n",
       "1 -1.730082  0.997713  0.375618  0.648416 -1.680366  0.997022  \n",
       "2 -1.753377  0.994095  0.715321  0.616099 -1.838073  0.995596  \n",
       "\n",
       "[3 rows x 181 columns]"
      ]
     },
     "execution_count": 8,
     "metadata": {},
     "output_type": "execute_result"
    }
   ],
   "source": [
    "df.head(3)"
   ]
  },
  {
   "cell_type": "code",
   "execution_count": 9,
   "id": "3bd90aff",
   "metadata": {},
   "outputs": [
    {
     "data": {
      "text/plain": [
       "class\n",
       "Terdiam     11\n",
       "Celinguk    10\n",
       "Name: count, dtype: int64"
      ]
     },
     "execution_count": 9,
     "metadata": {},
     "output_type": "execute_result"
    }
   ],
   "source": [
    "df['class'].value_counts()"
   ]
  },
  {
   "cell_type": "code",
   "execution_count": 12,
   "id": "6dfcd174",
   "metadata": {},
   "outputs": [
    {
     "name": "stdout",
     "output_type": "stream",
     "text": [
      "Train set size: 17\n",
      "Test set size: 4\n"
     ]
    }
   ],
   "source": [
    "X = df.drop('class', axis=1) # features\n",
    "y = df['class'] # target value\n",
    "\n",
    "X_train, X_test, y_train, y_test = train_test_split(X, y, test_size=0.15, random_state=1234)\n",
    "\n",
    "print(f\"Train set size: {X_train.shape[0]}\")\n",
    "print(f\"Test set size: {X_test.shape[0]}\")"
   ]
  },
  {
   "cell_type": "code",
   "execution_count": 13,
   "id": "9e3e64f3",
   "metadata": {},
   "outputs": [
    {
     "data": {
      "text/plain": [
       "3     Celinguk\n",
       "13     Terdiam\n",
       "2     Celinguk\n",
       "16     Terdiam\n",
       "Name: class, dtype: object"
      ]
     },
     "execution_count": 13,
     "metadata": {},
     "output_type": "execute_result"
    }
   ],
   "source": [
    "y_test"
   ]
  },
  {
   "cell_type": "code",
   "execution_count": 17,
   "id": "af1120a0",
   "metadata": {},
   "outputs": [],
   "source": [
    "model = make_pipeline(StandardScaler(), SVC(probability=True)).fit(X_train, y_train)\n",
    "y_probs = model.predict_proba(X_train)"
   ]
  },
  {
   "cell_type": "code",
   "execution_count": 18,
   "id": "dc4d7d31",
   "metadata": {},
   "outputs": [],
   "source": [
    "version = 1\n",
    "path = f'../Model/'\n",
    "os.makedirs(os.path.dirname(path), exist_ok=True)\n",
    "\n",
    "with open(f'{path}/v{version}_model.pkl', 'wb') as f:\n",
    "    pickle.dump(model, f)"
   ]
  },
  {
   "cell_type": "code",
   "execution_count": 19,
   "id": "bd1464cb",
   "metadata": {},
   "outputs": [],
   "source": [
    "y_pred = model.predict(X_train)"
   ]
  },
  {
   "cell_type": "code",
   "execution_count": 20,
   "id": "20ced949",
   "metadata": {},
   "outputs": [
    {
     "data": {
      "text/plain": [
       "array(['Terdiam', 'Celinguk', 'Celinguk', 'Celinguk', 'Celinguk',\n",
       "       'Terdiam', 'Terdiam', 'Terdiam', 'Terdiam', 'Celinguk', 'Celinguk',\n",
       "       'Celinguk', 'Terdiam', 'Terdiam', 'Celinguk', 'Terdiam', 'Terdiam'],\n",
       "      dtype=object)"
      ]
     },
     "execution_count": 20,
     "metadata": {},
     "output_type": "execute_result"
    }
   ],
   "source": [
    "y_pred"
   ]
  },
  {
   "cell_type": "code",
   "execution_count": 21,
   "id": "0ef4de22",
   "metadata": {},
   "outputs": [
    {
     "name": "stdout",
     "output_type": "stream",
     "text": [
      "True Positive (TP): 0\n",
      "False Positive (FP): 2\n",
      "True Negative (TN): 2\n",
      "False Negative (FN): 0\n"
     ]
    }
   ],
   "source": [
    "# Set the threshold for positive detection\n",
    "threshold = 0.75\n",
    "\n",
    "# Get the predicted probabilities for the test set\n",
    "y_pred_proba = model.predict_proba(X_test)[:, 1]\n",
    "\n",
    "# Apply the threshold to get binary predictions\n",
    "y_pred = (y_pred_proba >= threshold).astype(int)\n",
    "\n",
    "# Convert y_test to binary format (1 for positive class, 0 for negative class)\n",
    "y_test_binary = (y_test == 'positive_class').astype(int)  # Replace 'positive_class' with the actual positive class label\n",
    "\n",
    "\n",
    "# Generate confusion matrix\n",
    "cm = confusion_matrix(y_test_binary, y_pred)\n",
    "TN, FP, FN, TP = cm.ravel()\n",
    "\n",
    "print(\"True Positive (TP):\", TP)\n",
    "print(\"False Positive (FP):\", FP)\n",
    "print(\"True Negative (TN):\", TN)\n",
    "print(\"False Negative (FN):\", FN)"
   ]
  },
  {
   "cell_type": "code",
   "execution_count": null,
   "id": "39d30f59",
   "metadata": {},
   "outputs": [],
   "source": []
  }
 ],
 "metadata": {
  "kernelspec": {
   "display_name": "motion_venv",
   "language": "python",
   "name": "python3"
  },
  "language_info": {
   "codemirror_mode": {
    "name": "ipython",
    "version": 3
   },
   "file_extension": ".py",
   "mimetype": "text/x-python",
   "name": "python",
   "nbconvert_exporter": "python",
   "pygments_lexer": "ipython3",
   "version": "3.11.12"
  }
 },
 "nbformat": 4,
 "nbformat_minor": 5
}
