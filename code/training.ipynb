{
 "cells": [
  {
   "cell_type": "markdown",
   "id": "84c4b2ca",
   "metadata": {},
   "source": [
    "# Train the model"
   ]
  },
  {
   "cell_type": "code",
   "execution_count": 1,
   "id": "e8feb8a5",
   "metadata": {},
   "outputs": [],
   "source": [
    "from sklearn.model_selection import train_test_split\n",
    "import pandas as pd\n",
    "import pickle, os\n",
    "\n",
    "from sklearn.pipeline import make_pipeline\n",
    "from sklearn.preprocessing import StandardScaler \n",
    "from sklearn.metrics import confusion_matrix, ConfusionMatrixDisplay\n",
    "from sklearn.svm import *"
   ]
  },
  {
   "cell_type": "code",
   "execution_count": 2,
   "id": "5d7fb6ed",
   "metadata": {},
   "outputs": [],
   "source": [
    "df = pd.read_csv('dataset/csv/ds_faced_v1.csv')"
   ]
  },
  {
   "cell_type": "code",
   "execution_count": 3,
   "id": "0a2202a1",
   "metadata": {},
   "outputs": [
    {
     "data": {
      "text/html": [
       "<div>\n",
       "<style scoped>\n",
       "    .dataframe tbody tr th:only-of-type {\n",
       "        vertical-align: middle;\n",
       "    }\n",
       "\n",
       "    .dataframe tbody tr th {\n",
       "        vertical-align: top;\n",
       "    }\n",
       "\n",
       "    .dataframe thead th {\n",
       "        text-align: right;\n",
       "    }\n",
       "</style>\n",
       "<table border=\"1\" class=\"dataframe\">\n",
       "  <thead>\n",
       "    <tr style=\"text-align: right;\">\n",
       "      <th></th>\n",
       "      <th>class</th>\n",
       "      <th>x1</th>\n",
       "      <th>y1</th>\n",
       "      <th>z1</th>\n",
       "      <th>v1</th>\n",
       "      <th>x2</th>\n",
       "      <th>y2</th>\n",
       "      <th>z2</th>\n",
       "      <th>v2</th>\n",
       "      <th>x3</th>\n",
       "      <th>...</th>\n",
       "      <th>v73</th>\n",
       "      <th>x74</th>\n",
       "      <th>y74</th>\n",
       "      <th>z74</th>\n",
       "      <th>v74</th>\n",
       "      <th>x75</th>\n",
       "      <th>y75</th>\n",
       "      <th>z75</th>\n",
       "      <th>v75</th>\n",
       "      <th>face_d15</th>\n",
       "    </tr>\n",
       "  </thead>\n",
       "  <tbody>\n",
       "    <tr>\n",
       "      <th>0</th>\n",
       "      <td>CelingakCelinguk</td>\n",
       "      <td>0.607824</td>\n",
       "      <td>0.675347</td>\n",
       "      <td>-1.774675</td>\n",
       "      <td>0.995053</td>\n",
       "      <td>0.677087</td>\n",
       "      <td>0.639612</td>\n",
       "      <td>-0.936251</td>\n",
       "      <td>0.992441</td>\n",
       "      <td>0.435848</td>\n",
       "      <td>...</td>\n",
       "      <td>0.991024</td>\n",
       "      <td>0.212395</td>\n",
       "      <td>1.566190</td>\n",
       "      <td>-0.976496</td>\n",
       "      <td>0.022729</td>\n",
       "      <td>0.212395</td>\n",
       "      <td>1.566190</td>\n",
       "      <td>-0.976496</td>\n",
       "      <td>0.022729</td>\n",
       "      <td>2.0</td>\n",
       "    </tr>\n",
       "    <tr>\n",
       "      <th>1</th>\n",
       "      <td>CelingakCelinguk</td>\n",
       "      <td>0.697874</td>\n",
       "      <td>0.692874</td>\n",
       "      <td>-1.678397</td>\n",
       "      <td>0.996192</td>\n",
       "      <td>0.694590</td>\n",
       "      <td>0.639218</td>\n",
       "      <td>-0.872528</td>\n",
       "      <td>0.992959</td>\n",
       "      <td>0.500863</td>\n",
       "      <td>...</td>\n",
       "      <td>0.991732</td>\n",
       "      <td>0.230934</td>\n",
       "      <td>1.657102</td>\n",
       "      <td>-0.560761</td>\n",
       "      <td>0.039072</td>\n",
       "      <td>0.230934</td>\n",
       "      <td>1.657102</td>\n",
       "      <td>-0.560761</td>\n",
       "      <td>0.039072</td>\n",
       "      <td>0.0</td>\n",
       "    </tr>\n",
       "    <tr>\n",
       "      <th>2</th>\n",
       "      <td>CelingakCelinguk</td>\n",
       "      <td>0.516435</td>\n",
       "      <td>0.684887</td>\n",
       "      <td>-1.572658</td>\n",
       "      <td>0.995310</td>\n",
       "      <td>0.682988</td>\n",
       "      <td>0.643252</td>\n",
       "      <td>-0.913507</td>\n",
       "      <td>0.994711</td>\n",
       "      <td>0.449533</td>\n",
       "      <td>...</td>\n",
       "      <td>0.996217</td>\n",
       "      <td>0.274223</td>\n",
       "      <td>1.540875</td>\n",
       "      <td>-1.733695</td>\n",
       "      <td>0.037122</td>\n",
       "      <td>0.274223</td>\n",
       "      <td>1.540875</td>\n",
       "      <td>-1.733695</td>\n",
       "      <td>0.037122</td>\n",
       "      <td>2.0</td>\n",
       "    </tr>\n",
       "  </tbody>\n",
       "</table>\n",
       "<p>3 rows × 316 columns</p>\n",
       "</div>"
      ],
      "text/plain": [
       "              class        x1        y1        z1        v1        x2  \\\n",
       "0  CelingakCelinguk  0.607824  0.675347 -1.774675  0.995053  0.677087   \n",
       "1  CelingakCelinguk  0.697874  0.692874 -1.678397  0.996192  0.694590   \n",
       "2  CelingakCelinguk  0.516435  0.684887 -1.572658  0.995310  0.682988   \n",
       "\n",
       "         y2        z2        v2        x3  ...       v73       x74       y74  \\\n",
       "0  0.639612 -0.936251  0.992441  0.435848  ...  0.991024  0.212395  1.566190   \n",
       "1  0.639218 -0.872528  0.992959  0.500863  ...  0.991732  0.230934  1.657102   \n",
       "2  0.643252 -0.913507  0.994711  0.449533  ...  0.996217  0.274223  1.540875   \n",
       "\n",
       "        z74       v74       x75       y75       z75       v75  face_d15  \n",
       "0 -0.976496  0.022729  0.212395  1.566190 -0.976496  0.022729       2.0  \n",
       "1 -0.560761  0.039072  0.230934  1.657102 -0.560761  0.039072       0.0  \n",
       "2 -1.733695  0.037122  0.274223  1.540875 -1.733695  0.037122       2.0  \n",
       "\n",
       "[3 rows x 316 columns]"
      ]
     },
     "execution_count": 3,
     "metadata": {},
     "output_type": "execute_result"
    }
   ],
   "source": [
    "df.head(3)"
   ]
  },
  {
   "cell_type": "code",
   "execution_count": 4,
   "id": "3bd90aff",
   "metadata": {},
   "outputs": [
    {
     "data": {
      "text/plain": [
       "class\n",
       "CelingakCelinguk    30\n",
       "Diam                30\n",
       "NutupMuka           30\n",
       "Name: count, dtype: int64"
      ]
     },
     "execution_count": 4,
     "metadata": {},
     "output_type": "execute_result"
    }
   ],
   "source": [
    "df['class'].value_counts()"
   ]
  },
  {
   "cell_type": "code",
   "execution_count": 5,
   "id": "6dfcd174",
   "metadata": {},
   "outputs": [
    {
     "name": "stdout",
     "output_type": "stream",
     "text": [
      "Train set size: 76\n",
      "Test set size: 14\n"
     ]
    }
   ],
   "source": [
    "X = df.drop('class', axis=1) # features\n",
    "y = df['class'] # target value\n",
    "\n",
    "X_train, X_test, y_train, y_test = train_test_split(X, y, test_size=0.15, random_state=1234)\n",
    "\n",
    "print(f\"Train set size: {X_train.shape[0]}\")\n",
    "print(f\"Test set size: {X_test.shape[0]}\")"
   ]
  },
  {
   "cell_type": "code",
   "execution_count": 6,
   "id": "9e3e64f3",
   "metadata": {},
   "outputs": [
    {
     "data": {
      "text/plain": [
       "36                Diam\n",
       "59                Diam\n",
       "65           NutupMuka\n",
       "45                Diam\n",
       "60           NutupMuka\n",
       "84           NutupMuka\n",
       "72           NutupMuka\n",
       "68           NutupMuka\n",
       "9     CelingakCelinguk\n",
       "74           NutupMuka\n",
       "29    CelingakCelinguk\n",
       "82           NutupMuka\n",
       "44                Diam\n",
       "10    CelingakCelinguk\n",
       "Name: class, dtype: object"
      ]
     },
     "execution_count": 6,
     "metadata": {},
     "output_type": "execute_result"
    }
   ],
   "source": [
    "y_test"
   ]
  },
  {
   "cell_type": "code",
   "execution_count": 7,
   "id": "af1120a0",
   "metadata": {},
   "outputs": [],
   "source": [
    "model = make_pipeline(StandardScaler(), SVC(probability=True)).fit(X_train, y_train)\n",
    "y_probs = model.predict_proba(X_train)"
   ]
  },
  {
   "cell_type": "code",
   "execution_count": 12,
   "id": "dc4d7d31",
   "metadata": {},
   "outputs": [],
   "source": [
    "version = 3\n",
    "path = f'../Model/'\n",
    "os.makedirs(os.path.dirname(path), exist_ok=True)\n",
    "\n",
    "with open(f'{path}/v{version}_model.pkl', 'wb') as f:\n",
    "    pickle.dump(model, f)"
   ]
  },
  {
   "cell_type": "code",
   "execution_count": 9,
   "id": "bd1464cb",
   "metadata": {},
   "outputs": [],
   "source": [
    "y_pred = model.predict(X_train)"
   ]
  },
  {
   "cell_type": "code",
   "execution_count": 10,
   "id": "20ced949",
   "metadata": {},
   "outputs": [
    {
     "data": {
      "text/plain": [
       "array(['Diam', 'Diam', 'NutupMuka', 'Diam', 'CelingakCelinguk', 'Diam',\n",
       "       'NutupMuka', 'CelingakCelinguk', 'NutupMuka', 'Diam', 'NutupMuka',\n",
       "       'Diam', 'NutupMuka', 'Diam', 'CelingakCelinguk', 'Diam', 'Diam',\n",
       "       'NutupMuka', 'NutupMuka', 'NutupMuka', 'CelingakCelinguk',\n",
       "       'CelingakCelinguk', 'CelingakCelinguk', 'CelingakCelinguk',\n",
       "       'CelingakCelinguk', 'CelingakCelinguk', 'Diam', 'NutupMuka',\n",
       "       'Diam', 'CelingakCelinguk', 'NutupMuka', 'Diam',\n",
       "       'CelingakCelinguk', 'NutupMuka', 'CelingakCelinguk',\n",
       "       'CelingakCelinguk', 'Diam', 'Diam', 'Diam', 'CelingakCelinguk',\n",
       "       'NutupMuka', 'CelingakCelinguk', 'CelingakCelinguk', 'NutupMuka',\n",
       "       'Diam', 'NutupMuka', 'CelingakCelinguk', 'CelingakCelinguk',\n",
       "       'Diam', 'CelingakCelinguk', 'CelingakCelinguk', 'CelingakCelinguk',\n",
       "       'CelingakCelinguk', 'NutupMuka', 'NutupMuka', 'Diam', 'Diam',\n",
       "       'Diam', 'NutupMuka', 'NutupMuka', 'NutupMuka', 'Diam', 'NutupMuka',\n",
       "       'NutupMuka', 'Diam', 'Diam', 'CelingakCelinguk',\n",
       "       'CelingakCelinguk', 'Diam', 'CelingakCelinguk', 'CelingakCelinguk',\n",
       "       'NutupMuka', 'Diam', 'Diam', 'NutupMuka', 'Diam'], dtype=object)"
      ]
     },
     "execution_count": 10,
     "metadata": {},
     "output_type": "execute_result"
    }
   ],
   "source": [
    "y_pred"
   ]
  },
  {
   "cell_type": "code",
   "execution_count": 11,
   "id": "0ef4de22",
   "metadata": {},
   "outputs": [
    {
     "name": "stdout",
     "output_type": "stream",
     "text": [
      "True Positive (TP): 0\n",
      "False Positive (FP): 2\n",
      "True Negative (TN): 12\n",
      "False Negative (FN): 0\n"
     ]
    }
   ],
   "source": [
    "# Set the threshold for positive detection\n",
    "threshold = 0.75\n",
    "\n",
    "# Get the predicted probabilities for the test set\n",
    "y_pred_proba = model.predict_proba(X_test)[:, 1]\n",
    "\n",
    "# Apply the threshold to get binary predictions\n",
    "y_pred = (y_pred_proba >= threshold).astype(int)\n",
    "\n",
    "# Convert y_test to binary format (1 for positive class, 0 for negative class)\n",
    "y_test_binary = (y_test == 'positive_class').astype(int)  # Replace 'positive_class' with the actual positive class label\n",
    "\n",
    "\n",
    "# Generate confusion matrix\n",
    "cm = confusion_matrix(y_test_binary, y_pred)\n",
    "TN, FP, FN, TP = cm.ravel()\n",
    "\n",
    "print(\"True Positive (TP):\", TP)\n",
    "print(\"False Positive (FP):\", FP)\n",
    "print(\"True Negative (TN):\", TN)\n",
    "print(\"False Negative (FN):\", FN)"
   ]
  },
  {
   "cell_type": "code",
   "execution_count": null,
   "id": "39d30f59",
   "metadata": {},
   "outputs": [],
   "source": []
  }
 ],
 "metadata": {
  "kernelspec": {
   "display_name": "motion_venv",
   "language": "python",
   "name": "python3"
  },
  "language_info": {
   "codemirror_mode": {
    "name": "ipython",
    "version": 3
   },
   "file_extension": ".py",
   "mimetype": "text/x-python",
   "name": "python",
   "nbconvert_exporter": "python",
   "pygments_lexer": "ipython3",
   "version": "3.11.12"
  }
 },
 "nbformat": 4,
 "nbformat_minor": 5
}
