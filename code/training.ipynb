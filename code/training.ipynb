{
 "cells": [
  {
   "cell_type": "markdown",
   "id": "84c4b2ca",
   "metadata": {},
   "source": [
    "# Train the model"
   ]
  },
  {
   "cell_type": "code",
   "execution_count": 1,
   "id": "e8feb8a5",
   "metadata": {},
   "outputs": [],
   "source": [
    "from sklearn.model_selection import train_test_split\n",
    "import pandas as pd\n",
    "import pickle, os\n",
    "\n",
    "from sklearn.pipeline import make_pipeline\n",
    "from sklearn.preprocessing import StandardScaler \n",
    "from sklearn.metrics import confusion_matrix, ConfusionMatrixDisplay\n",
    "from sklearn.svm import *"
   ]
  },
  {
   "cell_type": "code",
   "execution_count": 2,
   "id": "5d7fb6ed",
   "metadata": {},
   "outputs": [],
   "source": [
    "df = pd.read_csv('dataset/csv/ds_cctv_v1.csv')"
   ]
  },
  {
   "cell_type": "code",
   "execution_count": 3,
   "id": "0a2202a1",
   "metadata": {},
   "outputs": [
    {
     "data": {
      "text/html": [
       "<div>\n",
       "<style scoped>\n",
       "    .dataframe tbody tr th:only-of-type {\n",
       "        vertical-align: middle;\n",
       "    }\n",
       "\n",
       "    .dataframe tbody tr th {\n",
       "        vertical-align: top;\n",
       "    }\n",
       "\n",
       "    .dataframe thead th {\n",
       "        text-align: right;\n",
       "    }\n",
       "</style>\n",
       "<table border=\"1\" class=\"dataframe\">\n",
       "  <thead>\n",
       "    <tr style=\"text-align: right;\">\n",
       "      <th></th>\n",
       "      <th>class</th>\n",
       "      <th>x1</th>\n",
       "      <th>y1</th>\n",
       "      <th>z1</th>\n",
       "      <th>v1</th>\n",
       "      <th>x2</th>\n",
       "      <th>y2</th>\n",
       "      <th>z2</th>\n",
       "      <th>v2</th>\n",
       "      <th>x3</th>\n",
       "      <th>...</th>\n",
       "      <th>y74</th>\n",
       "      <th>z74</th>\n",
       "      <th>v74</th>\n",
       "      <th>x75</th>\n",
       "      <th>y75</th>\n",
       "      <th>z75</th>\n",
       "      <th>v75</th>\n",
       "      <th>face_d15</th>\n",
       "      <th>face_s15</th>\n",
       "      <th>hand_s15</th>\n",
       "    </tr>\n",
       "  </thead>\n",
       "  <tbody>\n",
       "    <tr>\n",
       "      <th>0</th>\n",
       "      <td>Nutup Muka</td>\n",
       "      <td>0.469739</td>\n",
       "      <td>0.578589</td>\n",
       "      <td>-0.127777</td>\n",
       "      <td>0.993265</td>\n",
       "      <td>0.440848</td>\n",
       "      <td>0.569411</td>\n",
       "      <td>-0.112306</td>\n",
       "      <td>0.994901</td>\n",
       "      <td>0.439771</td>\n",
       "      <td>...</td>\n",
       "      <td>0.711073</td>\n",
       "      <td>-0.029289</td>\n",
       "      <td>0.473242</td>\n",
       "      <td>0.495799</td>\n",
       "      <td>0.711073</td>\n",
       "      <td>-0.029289</td>\n",
       "      <td>0.473242</td>\n",
       "      <td>0.0</td>\n",
       "      <td>1.0</td>\n",
       "      <td>1.0</td>\n",
       "    </tr>\n",
       "    <tr>\n",
       "      <th>1</th>\n",
       "      <td>Nutup Muka</td>\n",
       "      <td>0.445407</td>\n",
       "      <td>0.614889</td>\n",
       "      <td>0.017926</td>\n",
       "      <td>0.995142</td>\n",
       "      <td>0.429321</td>\n",
       "      <td>0.619205</td>\n",
       "      <td>-0.039531</td>\n",
       "      <td>0.995156</td>\n",
       "      <td>0.433832</td>\n",
       "      <td>...</td>\n",
       "      <td>0.570589</td>\n",
       "      <td>0.175774</td>\n",
       "      <td>0.242573</td>\n",
       "      <td>0.472730</td>\n",
       "      <td>0.570589</td>\n",
       "      <td>0.175774</td>\n",
       "      <td>0.242573</td>\n",
       "      <td>0.0</td>\n",
       "      <td>0.0</td>\n",
       "      <td>0.0</td>\n",
       "    </tr>\n",
       "    <tr>\n",
       "      <th>2</th>\n",
       "      <td>Nutup Muka</td>\n",
       "      <td>0.445444</td>\n",
       "      <td>0.615121</td>\n",
       "      <td>-0.014786</td>\n",
       "      <td>0.997897</td>\n",
       "      <td>0.430551</td>\n",
       "      <td>0.620001</td>\n",
       "      <td>-0.072877</td>\n",
       "      <td>0.998852</td>\n",
       "      <td>0.432003</td>\n",
       "      <td>...</td>\n",
       "      <td>0.573695</td>\n",
       "      <td>0.211646</td>\n",
       "      <td>0.227217</td>\n",
       "      <td>0.469184</td>\n",
       "      <td>0.573695</td>\n",
       "      <td>0.211646</td>\n",
       "      <td>0.227217</td>\n",
       "      <td>0.0</td>\n",
       "      <td>0.0</td>\n",
       "      <td>0.0</td>\n",
       "    </tr>\n",
       "  </tbody>\n",
       "</table>\n",
       "<p>3 rows × 346 columns</p>\n",
       "</div>"
      ],
      "text/plain": [
       "        class        x1        y1        z1        v1        x2        y2  \\\n",
       "0  Nutup Muka  0.469739  0.578589 -0.127777  0.993265  0.440848  0.569411   \n",
       "1  Nutup Muka  0.445407  0.614889  0.017926  0.995142  0.429321  0.619205   \n",
       "2  Nutup Muka  0.445444  0.615121 -0.014786  0.997897  0.430551  0.620001   \n",
       "\n",
       "         z2        v2        x3  ...       y74       z74       v74       x75  \\\n",
       "0 -0.112306  0.994901  0.439771  ...  0.711073 -0.029289  0.473242  0.495799   \n",
       "1 -0.039531  0.995156  0.433832  ...  0.570589  0.175774  0.242573  0.472730   \n",
       "2 -0.072877  0.998852  0.432003  ...  0.573695  0.211646  0.227217  0.469184   \n",
       "\n",
       "        y75       z75       v75  face_d15  face_s15  hand_s15  \n",
       "0  0.711073 -0.029289  0.473242       0.0       1.0       1.0  \n",
       "1  0.570589  0.175774  0.242573       0.0       0.0       0.0  \n",
       "2  0.573695  0.211646  0.227217       0.0       0.0       0.0  \n",
       "\n",
       "[3 rows x 346 columns]"
      ]
     },
     "execution_count": 3,
     "metadata": {},
     "output_type": "execute_result"
    }
   ],
   "source": [
    "df.head(3)"
   ]
  },
  {
   "cell_type": "code",
   "execution_count": 4,
   "id": "3bd90aff",
   "metadata": {},
   "outputs": [
    {
     "data": {
      "text/plain": [
       "class\n",
       "Nutup Muka    30\n",
       "Diam          30\n",
       "Celinguk      30\n",
       "Name: count, dtype: int64"
      ]
     },
     "execution_count": 4,
     "metadata": {},
     "output_type": "execute_result"
    }
   ],
   "source": [
    "df['class'].value_counts()"
   ]
  },
  {
   "cell_type": "code",
   "execution_count": 5,
   "id": "6dfcd174",
   "metadata": {},
   "outputs": [
    {
     "name": "stdout",
     "output_type": "stream",
     "text": [
      "Train set size: 76\n",
      "Test set size: 14\n"
     ]
    }
   ],
   "source": [
    "X = df.drop('class', axis=1) # features\n",
    "y = df['class'] # target value\n",
    "\n",
    "X_train, X_test, y_train, y_test = train_test_split(X, y, test_size=0.15, random_state=1234)\n",
    "\n",
    "print(f\"Train set size: {X_train.shape[0]}\")\n",
    "print(f\"Test set size: {X_test.shape[0]}\")"
   ]
  },
  {
   "cell_type": "code",
   "execution_count": 6,
   "id": "9e3e64f3",
   "metadata": {},
   "outputs": [
    {
     "data": {
      "text/plain": [
       "36          Diam\n",
       "59          Diam\n",
       "65      Celinguk\n",
       "45          Diam\n",
       "60      Celinguk\n",
       "84      Celinguk\n",
       "72      Celinguk\n",
       "68      Celinguk\n",
       "9     Nutup Muka\n",
       "74      Celinguk\n",
       "29    Nutup Muka\n",
       "82      Celinguk\n",
       "44          Diam\n",
       "10    Nutup Muka\n",
       "Name: class, dtype: object"
      ]
     },
     "execution_count": 6,
     "metadata": {},
     "output_type": "execute_result"
    }
   ],
   "source": [
    "y_test"
   ]
  },
  {
   "cell_type": "code",
   "execution_count": 7,
   "id": "af1120a0",
   "metadata": {},
   "outputs": [],
   "source": [
    "model = make_pipeline(StandardScaler(), SVC(probability=True)).fit(X_train, y_train)\n",
    "y_probs = model.predict_proba(X_train)"
   ]
  },
  {
   "cell_type": "code",
   "execution_count": 12,
   "id": "dc4d7d31",
   "metadata": {},
   "outputs": [],
   "source": [
    "version = 4\n",
    "path = f'../Model/'\n",
    "os.makedirs(os.path.dirname(path), exist_ok=True)\n",
    "\n",
    "with open(f'{path}/v{version}_model.pkl', 'wb') as f:\n",
    "    pickle.dump(model, f)"
   ]
  },
  {
   "cell_type": "code",
   "execution_count": 13,
   "id": "bd1464cb",
   "metadata": {},
   "outputs": [],
   "source": [
    "y_pred = model.predict(X_train)"
   ]
  },
  {
   "cell_type": "code",
   "execution_count": 14,
   "id": "20ced949",
   "metadata": {},
   "outputs": [
    {
     "data": {
      "text/plain": [
       "array(['Diam', 'Diam', 'Celinguk', 'Diam', 'Nutup Muka', 'Diam',\n",
       "       'Celinguk', 'Nutup Muka', 'Celinguk', 'Diam', 'Celinguk', 'Diam',\n",
       "       'Celinguk', 'Diam', 'Nutup Muka', 'Nutup Muka', 'Diam', 'Celinguk',\n",
       "       'Celinguk', 'Celinguk', 'Nutup Muka', 'Nutup Muka', 'Nutup Muka',\n",
       "       'Nutup Muka', 'Nutup Muka', 'Nutup Muka', 'Diam', 'Celinguk',\n",
       "       'Diam', 'Celinguk', 'Celinguk', 'Diam', 'Nutup Muka', 'Diam',\n",
       "       'Diam', 'Nutup Muka', 'Diam', 'Diam', 'Diam', 'Nutup Muka',\n",
       "       'Celinguk', 'Nutup Muka', 'Nutup Muka', 'Celinguk', 'Diam',\n",
       "       'Celinguk', 'Celinguk', 'Nutup Muka', 'Nutup Muka', 'Celinguk',\n",
       "       'Celinguk', 'Celinguk', 'Nutup Muka', 'Celinguk', 'Celinguk',\n",
       "       'Diam', 'Diam', 'Diam', 'Celinguk', 'Celinguk', 'Celinguk', 'Diam',\n",
       "       'Celinguk', 'Celinguk', 'Diam', 'Diam', 'Nutup Muka', 'Celinguk',\n",
       "       'Diam', 'Celinguk', 'Nutup Muka', 'Celinguk', 'Diam', 'Diam',\n",
       "       'Celinguk', 'Diam'], dtype=object)"
      ]
     },
     "execution_count": 14,
     "metadata": {},
     "output_type": "execute_result"
    }
   ],
   "source": [
    "y_pred"
   ]
  },
  {
   "cell_type": "code",
   "execution_count": 15,
   "id": "0ef4de22",
   "metadata": {},
   "outputs": [
    {
     "name": "stdout",
     "output_type": "stream",
     "text": [
      "True Positive (TP): 0\n",
      "False Positive (FP): 3\n",
      "True Negative (TN): 11\n",
      "False Negative (FN): 0\n"
     ]
    }
   ],
   "source": [
    "# Set the threshold for positive detection\n",
    "threshold = 0.75\n",
    "\n",
    "# Get the predicted probabilities for the test set\n",
    "y_pred_proba = model.predict_proba(X_test)[:, 1]\n",
    "\n",
    "# Apply the threshold to get binary predictions\n",
    "y_pred = (y_pred_proba >= threshold).astype(int)\n",
    "\n",
    "# Convert y_test to binary format (1 for positive class, 0 for negative class)\n",
    "y_test_binary = (y_test == 'positive_class').astype(int)  # Replace 'positive_class' with the actual positive class label\n",
    "\n",
    "\n",
    "# Generate confusion matrix\n",
    "cm = confusion_matrix(y_test_binary, y_pred)\n",
    "TN, FP, FN, TP = cm.ravel()\n",
    "\n",
    "print(\"True Positive (TP):\", TP)\n",
    "print(\"False Positive (FP):\", FP)\n",
    "print(\"True Negative (TN):\", TN)\n",
    "print(\"False Negative (FN):\", FN)"
   ]
  },
  {
   "cell_type": "code",
   "execution_count": null,
   "id": "39d30f59",
   "metadata": {},
   "outputs": [],
   "source": []
  }
 ],
 "metadata": {
  "kernelspec": {
   "display_name": "motion_venv",
   "language": "python",
   "name": "python3"
  },
  "language_info": {
   "codemirror_mode": {
    "name": "ipython",
    "version": 3
   },
   "file_extension": ".py",
   "mimetype": "text/x-python",
   "name": "python",
   "nbconvert_exporter": "python",
   "pygments_lexer": "ipython3",
   "version": "3.11.12"
  }
 },
 "nbformat": 4,
 "nbformat_minor": 5
}
