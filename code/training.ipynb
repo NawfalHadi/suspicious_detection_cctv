{
 "cells": [
  {
   "cell_type": "markdown",
   "id": "84c4b2ca",
   "metadata": {},
   "source": [
    "# Train the model"
   ]
  },
  {
   "cell_type": "code",
   "execution_count": 2,
   "id": "e8feb8a5",
   "metadata": {},
   "outputs": [],
   "source": [
    "from sklearn.model_selection import train_test_split\n",
    "import pandas as pd\n",
    "import pickle, os\n",
    "\n",
    "from sklearn.pipeline import make_pipeline\n",
    "from sklearn.preprocessing import StandardScaler \n",
    "from sklearn.metrics import confusion_matrix, ConfusionMatrixDisplay\n",
    "from sklearn.svm import *"
   ]
  },
  {
   "cell_type": "code",
   "execution_count": 13,
   "id": "5d7fb6ed",
   "metadata": {},
   "outputs": [],
   "source": [
    "df = pd.read_csv('dataset/csv/check.csv')"
   ]
  },
  {
   "cell_type": "code",
   "execution_count": null,
   "id": "0a2202a1",
   "metadata": {},
   "outputs": [
    {
     "data": {
      "text/html": [
       "<div>\n",
       "<style scoped>\n",
       "    .dataframe tbody tr th:only-of-type {\n",
       "        vertical-align: middle;\n",
       "    }\n",
       "\n",
       "    .dataframe tbody tr th {\n",
       "        vertical-align: top;\n",
       "    }\n",
       "\n",
       "    .dataframe thead th {\n",
       "        text-align: right;\n",
       "    }\n",
       "</style>\n",
       "<table border=\"1\" class=\"dataframe\">\n",
       "  <thead>\n",
       "    <tr style=\"text-align: right;\">\n",
       "      <th></th>\n",
       "      <th>class</th>\n",
       "      <th>x1</th>\n",
       "      <th>y1</th>\n",
       "      <th>z1</th>\n",
       "      <th>v1</th>\n",
       "      <th>x2</th>\n",
       "      <th>y2</th>\n",
       "      <th>z2</th>\n",
       "      <th>v2</th>\n",
       "      <th>x3</th>\n",
       "      <th>...</th>\n",
       "      <th>z73</th>\n",
       "      <th>v73</th>\n",
       "      <th>x74</th>\n",
       "      <th>y74</th>\n",
       "      <th>z74</th>\n",
       "      <th>v74</th>\n",
       "      <th>x75</th>\n",
       "      <th>y75</th>\n",
       "      <th>z75</th>\n",
       "      <th>v75</th>\n",
       "    </tr>\n",
       "  </thead>\n",
       "  <tbody>\n",
       "    <tr>\n",
       "      <th>0</th>\n",
       "      <td>Tediam</td>\n",
       "      <td>0.530381</td>\n",
       "      <td>0.747671</td>\n",
       "      <td>-1.397066</td>\n",
       "      <td>0.999966</td>\n",
       "      <td>0.583714</td>\n",
       "      <td>0.684373</td>\n",
       "      <td>-1.335110</td>\n",
       "      <td>0.999947</td>\n",
       "      <td>0.479750</td>\n",
       "      <td>...</td>\n",
       "      <td>-1.262078</td>\n",
       "      <td>0.999961</td>\n",
       "      <td>0.197390</td>\n",
       "      <td>1.015755</td>\n",
       "      <td>-2.145135</td>\n",
       "      <td>0.687303</td>\n",
       "      <td>0.811579</td>\n",
       "      <td>1.533476</td>\n",
       "      <td>-1.044450</td>\n",
       "      <td>0.156081</td>\n",
       "    </tr>\n",
       "    <tr>\n",
       "      <th>1</th>\n",
       "      <td>Tediam</td>\n",
       "      <td>0.544482</td>\n",
       "      <td>0.751320</td>\n",
       "      <td>-1.414944</td>\n",
       "      <td>0.999911</td>\n",
       "      <td>0.590582</td>\n",
       "      <td>0.684324</td>\n",
       "      <td>-1.345557</td>\n",
       "      <td>0.999871</td>\n",
       "      <td>0.489773</td>\n",
       "      <td>...</td>\n",
       "      <td>-1.406858</td>\n",
       "      <td>0.999890</td>\n",
       "      <td>0.251365</td>\n",
       "      <td>1.350381</td>\n",
       "      <td>-1.439463</td>\n",
       "      <td>0.143133</td>\n",
       "      <td>0.824785</td>\n",
       "      <td>1.476250</td>\n",
       "      <td>-0.918117</td>\n",
       "      <td>0.033262</td>\n",
       "    </tr>\n",
       "    <tr>\n",
       "      <th>2</th>\n",
       "      <td>Tediam</td>\n",
       "      <td>0.539808</td>\n",
       "      <td>0.705525</td>\n",
       "      <td>-1.282604</td>\n",
       "      <td>0.999905</td>\n",
       "      <td>0.586689</td>\n",
       "      <td>0.651335</td>\n",
       "      <td>-1.208156</td>\n",
       "      <td>0.999865</td>\n",
       "      <td>0.490361</td>\n",
       "      <td>...</td>\n",
       "      <td>-1.218594</td>\n",
       "      <td>0.999901</td>\n",
       "      <td>0.228252</td>\n",
       "      <td>1.294232</td>\n",
       "      <td>-1.859456</td>\n",
       "      <td>0.137332</td>\n",
       "      <td>0.823107</td>\n",
       "      <td>1.518266</td>\n",
       "      <td>-1.118896</td>\n",
       "      <td>0.041992</td>\n",
       "    </tr>\n",
       "  </tbody>\n",
       "</table>\n",
       "<p>3 rows × 301 columns</p>\n",
       "</div>"
      ],
      "text/plain": [
       "    class        x1        y1        z1        v1        x2        y2  \\\n",
       "0  Tediam  0.530381  0.747671 -1.397066  0.999966  0.583714  0.684373   \n",
       "1  Tediam  0.544482  0.751320 -1.414944  0.999911  0.590582  0.684324   \n",
       "2  Tediam  0.539808  0.705525 -1.282604  0.999905  0.586689  0.651335   \n",
       "\n",
       "         z2        v2        x3  ...       z73       v73       x74       y74  \\\n",
       "0 -1.335110  0.999947  0.479750  ... -1.262078  0.999961  0.197390  1.015755   \n",
       "1 -1.345557  0.999871  0.489773  ... -1.406858  0.999890  0.251365  1.350381   \n",
       "2 -1.208156  0.999865  0.490361  ... -1.218594  0.999901  0.228252  1.294232   \n",
       "\n",
       "        z74       v74       x75       y75       z75       v75  \n",
       "0 -2.145135  0.687303  0.811579  1.533476 -1.044450  0.156081  \n",
       "1 -1.439463  0.143133  0.824785  1.476250 -0.918117  0.033262  \n",
       "2 -1.859456  0.137332  0.823107  1.518266 -1.118896  0.041992  \n",
       "\n",
       "[3 rows x 301 columns]"
      ]
     },
     "execution_count": 4,
     "metadata": {},
     "output_type": "execute_result"
    }
   ],
   "source": [
    "df.head(3)"
   ]
  },
  {
   "cell_type": "code",
   "execution_count": 5,
   "id": "3bd90aff",
   "metadata": {},
   "outputs": [
    {
     "data": {
      "text/plain": [
       "class\n",
       "Celinguk     12\n",
       "Tediam       11\n",
       "NutupMuka     7\n",
       "Name: count, dtype: int64"
      ]
     },
     "execution_count": 5,
     "metadata": {},
     "output_type": "execute_result"
    }
   ],
   "source": [
    "df['class'].value_counts()"
   ]
  },
  {
   "cell_type": "code",
   "execution_count": 14,
   "id": "6dfcd174",
   "metadata": {},
   "outputs": [
    {
     "name": "stdout",
     "output_type": "stream",
     "text": [
      "Train set size: 25\n",
      "Test set size: 5\n"
     ]
    }
   ],
   "source": [
    "X = df.drop('class', axis=1) # features\n",
    "y = df['class'] # target value\n",
    "\n",
    "X_train, X_test, y_train, y_test = train_test_split(X, y, test_size=0.15, random_state=1234)\n",
    "\n",
    "print(f\"Train set size: {X_train.shape[0]}\")\n",
    "print(f\"Test set size: {X_test.shape[0]}\")"
   ]
  },
  {
   "cell_type": "code",
   "execution_count": 15,
   "id": "9e3e64f3",
   "metadata": {},
   "outputs": [
    {
     "data": {
      "text/plain": [
       "7        Tediam\n",
       "10       Tediam\n",
       "4        Tediam\n",
       "1        Tediam\n",
       "28    NutupMuka\n",
       "Name: class, dtype: object"
      ]
     },
     "execution_count": 15,
     "metadata": {},
     "output_type": "execute_result"
    }
   ],
   "source": [
    "y_test"
   ]
  },
  {
   "cell_type": "code",
   "execution_count": 16,
   "id": "af1120a0",
   "metadata": {},
   "outputs": [],
   "source": [
    "model = make_pipeline(StandardScaler(), SVC(probability=True)).fit(X_train, y_train)\n",
    "y_probs = model.predict_proba(X_train)"
   ]
  },
  {
   "cell_type": "code",
   "execution_count": 17,
   "id": "dc4d7d31",
   "metadata": {},
   "outputs": [],
   "source": [
    "version = 2\n",
    "path = f'../Model/'\n",
    "os.makedirs(os.path.dirname(path), exist_ok=True)\n",
    "\n",
    "with open(f'{path}/v{version}_model.pkl', 'wb') as f:\n",
    "    pickle.dump(model, f)"
   ]
  },
  {
   "cell_type": "code",
   "execution_count": 18,
   "id": "bd1464cb",
   "metadata": {},
   "outputs": [],
   "source": [
    "y_pred = model.predict(X_train)"
   ]
  },
  {
   "cell_type": "code",
   "execution_count": 19,
   "id": "20ced949",
   "metadata": {},
   "outputs": [
    {
     "data": {
      "text/plain": [
       "array(['Tediam', 'Tediam', 'NutupMuka', 'Celinguk', 'Celinguk',\n",
       "       'NutupMuka', 'NutupMuka', 'Tediam', 'Tediam', 'NutupMuka',\n",
       "       'NutupMuka', 'Celinguk', 'Tediam', 'Celinguk', 'NutupMuka',\n",
       "       'Celinguk', 'Tediam', 'Celinguk', 'NutupMuka', 'Celinguk',\n",
       "       'Celinguk', 'Tediam', 'Tediam', 'Celinguk', 'Celinguk'],\n",
       "      dtype=object)"
      ]
     },
     "execution_count": 19,
     "metadata": {},
     "output_type": "execute_result"
    }
   ],
   "source": [
    "y_pred"
   ]
  },
  {
   "cell_type": "code",
   "execution_count": 20,
   "id": "0ef4de22",
   "metadata": {},
   "outputs": [
    {
     "name": "stderr",
     "output_type": "stream",
     "text": [
      "/mnt/c/users/nawfal/documents/apps/collaborative project/cctv_motion_detection/motion_venv/lib/python3.11/site-packages/sklearn/metrics/_classification.py:407: UserWarning: A single label was found in 'y_true' and 'y_pred'. For the confusion matrix to have the correct shape, use the 'labels' parameter to pass all known labels.\n",
      "  warnings.warn(\n"
     ]
    },
    {
     "ename": "ValueError",
     "evalue": "not enough values to unpack (expected 4, got 1)",
     "output_type": "error",
     "traceback": [
      "\u001b[31m---------------------------------------------------------------------------\u001b[39m",
      "\u001b[31mValueError\u001b[39m                                Traceback (most recent call last)",
      "\u001b[36mCell\u001b[39m\u001b[36m \u001b[39m\u001b[32mIn[20]\u001b[39m\u001b[32m, line 16\u001b[39m\n\u001b[32m     14\u001b[39m \u001b[38;5;66;03m# Generate confusion matrix\u001b[39;00m\n\u001b[32m     15\u001b[39m cm = confusion_matrix(y_test_binary, y_pred)\n\u001b[32m---> \u001b[39m\u001b[32m16\u001b[39m TN, FP, FN, TP = cm.ravel()\n\u001b[32m     18\u001b[39m \u001b[38;5;28mprint\u001b[39m(\u001b[33m\"\u001b[39m\u001b[33mTrue Positive (TP):\u001b[39m\u001b[33m\"\u001b[39m, TP)\n\u001b[32m     19\u001b[39m \u001b[38;5;28mprint\u001b[39m(\u001b[33m\"\u001b[39m\u001b[33mFalse Positive (FP):\u001b[39m\u001b[33m\"\u001b[39m, FP)\n",
      "\u001b[31mValueError\u001b[39m: not enough values to unpack (expected 4, got 1)"
     ]
    }
   ],
   "source": [
    "# Set the threshold for positive detection\n",
    "threshold = 0.75\n",
    "\n",
    "# Get the predicted probabilities for the test set\n",
    "y_pred_proba = model.predict_proba(X_test)[:, 1]\n",
    "\n",
    "# Apply the threshold to get binary predictions\n",
    "y_pred = (y_pred_proba >= threshold).astype(int)\n",
    "\n",
    "# Convert y_test to binary format (1 for positive class, 0 for negative class)\n",
    "y_test_binary = (y_test == 'positive_class').astype(int)  # Replace 'positive_class' with the actual positive class label\n",
    "\n",
    "\n",
    "# Generate confusion matrix\n",
    "cm = confusion_matrix(y_test_binary, y_pred)\n",
    "TN, FP, FN, TP = cm.ravel()\n",
    "\n",
    "print(\"True Positive (TP):\", TP)\n",
    "print(\"False Positive (FP):\", FP)\n",
    "print(\"True Negative (TN):\", TN)\n",
    "print(\"False Negative (FN):\", FN)"
   ]
  },
  {
   "cell_type": "code",
   "execution_count": null,
   "id": "39d30f59",
   "metadata": {},
   "outputs": [],
   "source": []
  }
 ],
 "metadata": {
  "kernelspec": {
   "display_name": "motion_venv",
   "language": "python",
   "name": "python3"
  },
  "language_info": {
   "codemirror_mode": {
    "name": "ipython",
    "version": 3
   },
   "file_extension": ".py",
   "mimetype": "text/x-python",
   "name": "python",
   "nbconvert_exporter": "python",
   "pygments_lexer": "ipython3",
   "version": "3.11.12"
  }
 },
 "nbformat": 4,
 "nbformat_minor": 5
}
