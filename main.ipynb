{
 "cells": [
  {
   "cell_type": "code",
   "execution_count": 7,
   "id": "cf9c43a8",
   "metadata": {},
   "outputs": [
    {
     "data": {
      "text/plain": [
       "'/mnt/c/users/nawfal/documents/apps/collaborative project/cctv_motion_detection/pose_env/bin/python'"
      ]
     },
     "execution_count": 7,
     "metadata": {},
     "output_type": "execute_result"
    }
   ],
   "source": [
    "import sys\n",
    "sys.executable\n"
   ]
  },
  {
   "cell_type": "code",
   "execution_count": 8,
   "id": "df3691d1",
   "metadata": {},
   "outputs": [],
   "source": [
    "import cv2\n",
    "import os\n",
    "import time"
   ]
  },
  {
   "cell_type": "code",
   "execution_count": 9,
   "id": "e7267d9c",
   "metadata": {},
   "outputs": [
    {
     "name": "stderr",
     "output_type": "stream",
     "text": [
      "[tcp @ 0x1d2fab40] Connection to tcp://10.223.206.104:5000 failed: Connection timed out\n"
     ]
    },
    {
     "ename": "KeyboardInterrupt",
     "evalue": "",
     "output_type": "error",
     "traceback": [
      "\u001b[31m---------------------------------------------------------------------------\u001b[39m",
      "\u001b[31mKeyboardInterrupt\u001b[39m                         Traceback (most recent call last)",
      "\u001b[36mCell\u001b[39m\u001b[36m \u001b[39m\u001b[32mIn[9]\u001b[39m\u001b[32m, line 2\u001b[39m\n\u001b[32m      1\u001b[39m \u001b[38;5;66;03m# Initialize the camera\u001b[39;00m\n\u001b[32m----> \u001b[39m\u001b[32m2\u001b[39m camera = \u001b[43mcv2\u001b[49m\u001b[43m.\u001b[49m\u001b[43mVideoCapture\u001b[49m\u001b[43m(\u001b[49m\u001b[33;43m\"\u001b[39;49m\u001b[33;43mhttp://10.223.206.104:5000/video\u001b[39;49m\u001b[33;43m\"\u001b[39;49m\u001b[43m)\u001b[49m\n\u001b[32m      4\u001b[39m \u001b[38;5;66;03m# Check if the camera opened successfully\u001b[39;00m\n\u001b[32m      5\u001b[39m \u001b[38;5;28;01mif\u001b[39;00m \u001b[38;5;129;01mnot\u001b[39;00m camera.isOpened():\n",
      "\u001b[31mKeyboardInterrupt\u001b[39m: "
     ]
    }
   ],
   "source": [
    "# Initialize the camera\n",
    "camera = cv2.VideoCapture(\"http://10.223.206.104:5000/video\")\n",
    "\n",
    "# Check if the camera opened successfully\n",
    "if not camera.isOpened():\n",
    "    print(\"Error: Could not open camera.\")\n",
    "else:\n",
    "    print(\"Camera is ready. Press 'q' to quit.\")\n",
    "\n",
    "# Capture frames from the camera\n",
    "while True:\n",
    "    ret, frame = camera.read()\n",
    "    if not ret:\n",
    "        print(\"Failed to grab frame.\")\n",
    "        break\n",
    "\n",
    "    # Display the frame\n",
    "    cv2.namedWindow(\"Camera Capture\", cv2.WINDOW_NORMAL | cv2.WINDOW_GUI_NORMAL)\n",
    "    cv2.resizeWindow(\"Camera Capture\", 640, 480)\n",
    "    cv2.imshow(\"Camera Capture\", frame)\n",
    "\n",
    "    # Exit the loop when 'q' is pressed\n",
    "    if cv2.waitKey(1) & 0xFF == ord('q'):\n",
    "        break\n",
    "\n",
    "# Release the camera and close all OpenCV windows\n",
    "camera.release()\n",
    "cv2.destroyAllWindows()"
   ]
  },
  {
   "cell_type": "code",
   "execution_count": 32,
   "id": "d2b290bf",
   "metadata": {},
   "outputs": [
    {
     "name": "stdout",
     "output_type": "stream",
     "text": [
      "Camera is ready. Press 'q' to quit.\n",
      "1\n",
      "2\n",
      "3\n",
      "4\n",
      "5\n",
      "6\n",
      "7\n",
      "8\n",
      "9\n",
      "10\n",
      "11\n",
      "12\n",
      "13\n",
      "14\n",
      "15\n",
      "16\n",
      "17\n",
      "18\n",
      "19\n",
      "20\n",
      "21\n",
      "22\n",
      "23\n",
      "24\n",
      "25\n",
      "26\n",
      "27\n",
      "28\n",
      "29\n",
      "30\n",
      "Saved 30 frames.\n"
     ]
    }
   ],
   "source": [
    "import time\n",
    "\n",
    "num_frames = int(input(\"How many frames do you want? \"))\n",
    "frames = []\n",
    "\n",
    "camera = cv2.VideoCapture(\"http://10.223.206.104:5000/video\")\n",
    "\n",
    "desire_fps = 10\n",
    "frame_delay = 1.0 / desire_fps\n",
    "\n",
    "# Check if the camera opened successfully\n",
    "if not camera.isOpened():\n",
    "    print(\"Error: Could not open camera.\")\n",
    "else:\n",
    "    print(\"Camera is ready. Press 'q' to quit.\")\n",
    "\n",
    "# Capture frames from the camera\n",
    "while True:\n",
    "    start_time = time.time()\n",
    "\n",
    "    ret, frame = camera.read()\n",
    "    \n",
    "    if ret:\n",
    "        # Save the frame to the test/frames folder\n",
    "        # Ensure the directory exists before saving\n",
    "        os.makedirs(\"test/frames\", exist_ok=True)\n",
    "        filename = f\"test/frames/frame_{len(frames)}.jpg\"\n",
    "        cv2.imwrite(filename, frame)\n",
    "\n",
    "        frames.append(frame)\n",
    "        print(len(frames))\n",
    "\n",
    "        if len(frames) >= num_frames:\n",
    "            print(f\"Saved {num_frames} frames.\")\n",
    "            break\n",
    "\n",
    "    if not ret:\n",
    "        print(\"Failed to grab frame.\")\n",
    "        break\n",
    "\n",
    "    # Display the frame\n",
    "    cv2.namedWindow(\"Camera Capture\", cv2.WINDOW_NORMAL | cv2.WINDOW_GUI_NORMAL)\n",
    "    cv2.resizeWindow(\"Camera Capture\", 640, 480)\n",
    "    cv2.imshow(\"Camera Capture\", frame)\n",
    "\n",
    "    # Delay to simulate target FPS\n",
    "    elapsed = time.time() - start_time\n",
    "    sleep_time = max(0, frame_delay - elapsed)\n",
    "    time.sleep(sleep_time)\n",
    "\n",
    "\n",
    "    # Exit the loop when 'q' is pressed\n",
    "    if cv2.waitKey(1) & 0xFF == ord('q'):\n",
    "        break\n",
    "\n",
    "# Release the camera and close all OpenCV windows\n",
    "camera.release()\n",
    "cv2.destroyAllWindows()\n"
   ]
  },
  {
   "cell_type": "markdown",
   "id": "050ec453",
   "metadata": {},
   "source": [
    "# Get Continously Frame\n",
    "the output is the list always changed while camera running"
   ]
  },
  {
   "cell_type": "code",
   "execution_count": null,
   "id": "bd66ba90",
   "metadata": {},
   "outputs": [],
   "source": [
    "import time\n",
    "\n",
    "num_frames = int(input(\"How many frames do you want? \"))\n",
    "frames = []\n",
    "\n",
    "camera = cv2.VideoCapture(\"http://10.223.206.104:5000/video\")\n",
    "\n",
    "desire_fps = 10\n",
    "frame_delay = 1.0 / desire_fps\n",
    "\n",
    "# Check if the camera opened successfully\n",
    "if not camera.isOpened():\n",
    "    print(\"Error: Could not open camera.\")\n",
    "else:\n",
    "    print(\"Camera is ready. Press 'q' to quit.\")\n",
    "\n",
    "# Capture frames from the camera\n",
    "while True:\n",
    "    start_time = time.time()\n",
    "\n",
    "    ret, frame = camera.read()\n",
    "    \n",
    "    if ret:\n",
    "        # Save the frame to the test/frames folder\n",
    "        # Ensure the directory exists before saving\n",
    "\n",
    "\n",
    "        # cek apakah list nya ada None\n",
    "        if len(frames) < num_frames:\n",
    "            frames.append(frame)\n",
    "            print(\"append\")\n",
    "        else:\n",
    "            # do a movement where the list work move from second index to the fist index\n",
    "            # third index to the second index and so on\n",
    "            # the first index will be deleted\n",
    "            # the last index will be added from the camera\n",
    "            frames.pop(0)\n",
    "            print(\"pop\")\n",
    "\n",
    "        print(len(frames))\n",
    "\n",
    "        if len(frames) >= num_frames:\n",
    "            print(f\"Saved {num_frames} frames.\")\n",
    "            break\n",
    "\n",
    "    if not ret:\n",
    "        print(\"Failed to grab frame.\")\n",
    "        break\n",
    "\n",
    "    # Display the frame\n",
    "    cv2.namedWindow(\"Camera Capture\", cv2.WINDOW_NORMAL | cv2.WINDOW_GUI_NORMAL)\n",
    "    cv2.resizeWindow(\"Camera Capture\", 640, 480)\n",
    "    cv2.imshow(\"Camera Capture\", frame)\n",
    "\n",
    "    # Delay to simulate target FPS\n",
    "    elapsed = time.time() - start_time\n",
    "    sleep_time = max(0, frame_delay - elapsed)\n",
    "    time.sleep(sleep_time)\n",
    "\n",
    "\n",
    "    # Exit the loop when 'q' is pressed\n",
    "    if cv2.waitKey(1) & 0xFF == ord('q'):\n",
    "        break\n",
    "\n",
    "# Release the camera and close all OpenCV windows\n",
    "camera.release()\n",
    "cv2.destroyAllWindows()\n"
   ]
  },
  {
   "cell_type": "markdown",
   "id": "25109664",
   "metadata": {},
   "source": [
    "# Show Testing GUI\n",
    "i want the output is to show all of FRAMEn while camera active\n"
   ]
  },
  {
   "cell_type": "code",
   "execution_count": null,
   "id": "d3559351",
   "metadata": {},
   "outputs": [
    {
     "name": "stdout",
     "output_type": "stream",
     "text": [
      "Camera is ready. Press 'q' to quit.\n"
     ]
    }
   ],
   "source": [
    "camera = cv2.VideoCapture(\"http://10.223.206.104:5000/video\")\n",
    "num_frames = 15\n",
    "\n",
    "original_width, original_height = 960, 540\n",
    "desire_fps = 10\n",
    "frame_delay = 1.0 / desire_fps\n",
    "\n",
    "frames = []\n",
    "\n",
    "# Check if the camera opened successfully\n",
    "if not camera.isOpened():\n",
    "    print(\"Error: Could not open camera.\")\n",
    "else:\n",
    "    print(\"Camera is ready. Press 'q' to quit.\")\n",
    "\n",
    "while True:\n",
    "    start_time = time.time()\n",
    "    ret, frame = camera.read()\n",
    "\n",
    "    if ret:\n",
    "        if len(frames) < num_frames:\n",
    "            frames.append(frame)\n",
    "        else:\n",
    "            frames.pop(0)\n",
    "            \n",
    "\n",
    "        frame = cv2.resize(frame, (original_width, original_height))\n",
    "        \n",
    "        # Delay to simulate target FPS\n",
    "        elapsed = time.time() - start_time\n",
    "        sleep_time = max(0, frame_delay - elapsed)\n",
    "        time.sleep(sleep_time)\n",
    "\n",
    "\n",
    "        cv2.imshow(\"Camera Capture\", frame)\n",
    "        if cv2.waitKey(1) & 0xFF == ord('q'):\n",
    "            break\n",
    "\n",
    "camera.release()\n",
    "cv2.destroyAllWindows()"
   ]
  },
  {
   "cell_type": "markdown",
   "id": "56193f8a",
   "metadata": {},
   "source": [
    "# Implement Landmark On Frames Running "
   ]
  },
  {
   "cell_type": "code",
   "execution_count": null,
   "id": "e3c593e5",
   "metadata": {},
   "outputs": [],
   "source": []
  },
  {
   "cell_type": "markdown",
   "id": "2cb20e62",
   "metadata": {},
   "source": [
    "# - All above creating a based of how to create the input -"
   ]
  },
  {
   "cell_type": "code",
   "execution_count": null,
   "id": "633929fa",
   "metadata": {},
   "outputs": [],
   "source": []
  }
 ],
 "metadata": {
  "kernelspec": {
   "display_name": "pose_env",
   "language": "python",
   "name": "python3"
  },
  "language_info": {
   "codemirror_mode": {
    "name": "ipython",
    "version": 3
   },
   "file_extension": ".py",
   "mimetype": "text/x-python",
   "name": "python",
   "nbconvert_exporter": "python",
   "pygments_lexer": "ipython3",
   "version": "3.12.3"
  }
 },
 "nbformat": 4,
 "nbformat_minor": 5
}
